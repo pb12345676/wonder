{
 "cells": [
  {
   "cell_type": "code",
   "execution_count": null,
   "id": "1fcbe2e5",
   "metadata": {},
   "outputs": [],
   "source": [
    "Operator \n",
    "\n",
    "it is symbol which define operation\n",
    "\n",
    "\n",
    "10+ 45 \n",
    "\n",
    "\n",
    "+ - operator\n",
    "\n",
    "10,45 --> operands"
   ]
  },
  {
   "cell_type": "code",
   "execution_count": null,
   "id": "5e5ece5f",
   "metadata": {},
   "outputs": [],
   "source": [
    "1.Arithmetic Operator --> +,-,*,/,**,//,%\n",
    "2.Condition/Camparision Operator --> >,<,>=,<=,!=,==\n",
    "3.Assgiment operator --> =,+=,-=,*=,/=\n",
    "4.Logical Operator --> and or not\n",
    "5.Membership operator\n",
    "6.Identity Operator\n",
    "7.bitwise operator\n",
    "8.ternary operator"
   ]
  },
  {
   "cell_type": "code",
   "execution_count": 1,
   "id": "cfe88337",
   "metadata": {},
   "outputs": [],
   "source": [
    "#Arithmetic Operator"
   ]
  },
  {
   "cell_type": "code",
   "execution_count": null,
   "id": "936174a4",
   "metadata": {},
   "outputs": [],
   "source": [
    "+ - addition\n",
    "- - sub\n",
    "* - mul\n",
    "/ - div\n",
    "-----------------------------------------\n",
    "%  - modulos\n",
    "** - \n",
    "//"
   ]
  },
  {
   "cell_type": "code",
   "execution_count": null,
   "id": "fa6fa6f8",
   "metadata": {},
   "outputs": [],
   "source": [
    "% modulous"
   ]
  },
  {
   "cell_type": "code",
   "execution_count": null,
   "id": "7de327ea",
   "metadata": {},
   "outputs": [],
   "source": [
    "find reminder"
   ]
  },
  {
   "cell_type": "code",
   "execution_count": 2,
   "id": "6a05eb92",
   "metadata": {},
   "outputs": [
    {
     "data": {
      "text/plain": [
       "1"
      ]
     },
     "execution_count": 2,
     "metadata": {},
     "output_type": "execute_result"
    }
   ],
   "source": [
    "3%2"
   ]
  },
  {
   "cell_type": "code",
   "execution_count": 3,
   "id": "3696d950",
   "metadata": {},
   "outputs": [
    {
     "data": {
      "text/plain": [
       "0"
      ]
     },
     "execution_count": 3,
     "metadata": {},
     "output_type": "execute_result"
    }
   ],
   "source": [
    "50%10"
   ]
  },
  {
   "cell_type": "code",
   "execution_count": 4,
   "id": "f3683be2",
   "metadata": {},
   "outputs": [
    {
     "data": {
      "text/plain": [
       "0"
      ]
     },
     "execution_count": 4,
     "metadata": {},
     "output_type": "execute_result"
    }
   ],
   "source": [
    "45%3"
   ]
  },
  {
   "cell_type": "code",
   "execution_count": 5,
   "id": "69ecf976",
   "metadata": {},
   "outputs": [
    {
     "data": {
      "text/plain": [
       "3"
      ]
     },
     "execution_count": 5,
     "metadata": {},
     "output_type": "execute_result"
    }
   ],
   "source": [
    "45%7"
   ]
  },
  {
   "cell_type": "code",
   "execution_count": 6,
   "id": "82dbf2cb",
   "metadata": {},
   "outputs": [
    {
     "data": {
      "text/plain": [
       "6.428571428571429"
      ]
     },
     "execution_count": 6,
     "metadata": {},
     "output_type": "execute_result"
    }
   ],
   "source": [
    "45/7"
   ]
  },
  {
   "cell_type": "code",
   "execution_count": null,
   "id": "457deb06",
   "metadata": {},
   "outputs": [],
   "source": [
    "**"
   ]
  },
  {
   "cell_type": "code",
   "execution_count": 7,
   "id": "7a903568",
   "metadata": {},
   "outputs": [
    {
     "data": {
      "text/plain": [
       "216"
      ]
     },
     "execution_count": 7,
     "metadata": {},
     "output_type": "execute_result"
    }
   ],
   "source": [
    "6**3"
   ]
  },
  {
   "cell_type": "code",
   "execution_count": 8,
   "id": "32dbe7d8",
   "metadata": {},
   "outputs": [
    {
     "data": {
      "text/plain": [
       "32"
      ]
     },
     "execution_count": 8,
     "metadata": {},
     "output_type": "execute_result"
    }
   ],
   "source": [
    "2**5"
   ]
  },
  {
   "cell_type": "code",
   "execution_count": 9,
   "id": "922966c0",
   "metadata": {},
   "outputs": [
    {
     "data": {
      "text/plain": [
       "32"
      ]
     },
     "execution_count": 9,
     "metadata": {},
     "output_type": "execute_result"
    }
   ],
   "source": [
    "2*2*2*2*2"
   ]
  },
  {
   "cell_type": "code",
   "execution_count": 10,
   "id": "68a72d62",
   "metadata": {},
   "outputs": [
    {
     "data": {
      "text/plain": [
       "64"
      ]
     },
     "execution_count": 10,
     "metadata": {},
     "output_type": "execute_result"
    }
   ],
   "source": [
    "2**6"
   ]
  },
  {
   "cell_type": "code",
   "execution_count": 11,
   "id": "2bc192be",
   "metadata": {},
   "outputs": [
    {
     "data": {
      "text/plain": [
       "64"
      ]
     },
     "execution_count": 11,
     "metadata": {},
     "output_type": "execute_result"
    }
   ],
   "source": [
    "2*2*2*2*2*2"
   ]
  },
  {
   "cell_type": "code",
   "execution_count": 12,
   "id": "bbd975ef",
   "metadata": {},
   "outputs": [
    {
     "data": {
      "text/plain": [
       "11.142857142857142"
      ]
     },
     "execution_count": 12,
     "metadata": {},
     "output_type": "execute_result"
    }
   ],
   "source": [
    "78/7"
   ]
  },
  {
   "cell_type": "code",
   "execution_count": 13,
   "id": "45e12d5d",
   "metadata": {},
   "outputs": [
    {
     "data": {
      "text/plain": [
       "11"
      ]
     },
     "execution_count": 13,
     "metadata": {},
     "output_type": "execute_result"
    }
   ],
   "source": [
    "78//7"
   ]
  },
  {
   "cell_type": "code",
   "execution_count": 14,
   "id": "a3ed3910",
   "metadata": {},
   "outputs": [
    {
     "data": {
      "text/plain": [
       "15.333333333333334"
      ]
     },
     "execution_count": 14,
     "metadata": {},
     "output_type": "execute_result"
    }
   ],
   "source": [
    "46/3"
   ]
  },
  {
   "cell_type": "code",
   "execution_count": 15,
   "id": "65fa91ff",
   "metadata": {},
   "outputs": [
    {
     "data": {
      "text/plain": [
       "15"
      ]
     },
     "execution_count": 15,
     "metadata": {},
     "output_type": "execute_result"
    }
   ],
   "source": [
    "46//3"
   ]
  },
  {
   "cell_type": "code",
   "execution_count": 16,
   "id": "1475dd0c",
   "metadata": {},
   "outputs": [],
   "source": [
    "import math"
   ]
  },
  {
   "cell_type": "code",
   "execution_count": 19,
   "id": "aad9cf0f",
   "metadata": {},
   "outputs": [
    {
     "data": {
      "text/plain": [
       "16"
      ]
     },
     "execution_count": 19,
     "metadata": {},
     "output_type": "execute_result"
    }
   ],
   "source": [
    "math.ceil(46/3)"
   ]
  },
  {
   "cell_type": "code",
   "execution_count": null,
   "id": "6586aadc",
   "metadata": {},
   "outputs": [],
   "source": [
    "trading \n",
    "\n",
    "upper limit - 46 \n",
    "\n",
    "45.69\n",
    "\n",
    "lower limit - 45 "
   ]
  },
  {
   "cell_type": "code",
   "execution_count": null,
   "id": "618182cd",
   "metadata": {},
   "outputs": [],
   "source": []
  },
  {
   "cell_type": "code",
   "execution_count": null,
   "id": "1ed86ba0",
   "metadata": {},
   "outputs": [],
   "source": [
    "/\n",
    "//"
   ]
  },
  {
   "cell_type": "code",
   "execution_count": 20,
   "id": "4be1409d",
   "metadata": {},
   "outputs": [
    {
     "data": {
      "text/plain": [
       "19.6"
      ]
     },
     "execution_count": 20,
     "metadata": {},
     "output_type": "execute_result"
    }
   ],
   "source": [
    "98/5"
   ]
  },
  {
   "cell_type": "code",
   "execution_count": 21,
   "id": "46268875",
   "metadata": {},
   "outputs": [
    {
     "data": {
      "text/plain": [
       "19"
      ]
     },
     "execution_count": 21,
     "metadata": {},
     "output_type": "execute_result"
    }
   ],
   "source": [
    "98//5"
   ]
  },
  {
   "cell_type": "code",
   "execution_count": 22,
   "id": "5ca1e7ff",
   "metadata": {},
   "outputs": [
    {
     "data": {
      "text/plain": [
       "20"
      ]
     },
     "execution_count": 22,
     "metadata": {},
     "output_type": "execute_result"
    }
   ],
   "source": [
    "math.ceil(98/5)"
   ]
  },
  {
   "cell_type": "code",
   "execution_count": 23,
   "id": "e976e438",
   "metadata": {},
   "outputs": [],
   "source": [
    "#Conditional /Comparision "
   ]
  },
  {
   "cell_type": "code",
   "execution_count": null,
   "id": "d0c992c1",
   "metadata": {},
   "outputs": [],
   "source": [
    "SME--> Subject Matter Expert\n",
    "\n",
    "Python --> data --> spread -- graph -- Automatically"
   ]
  },
  {
   "cell_type": "code",
   "execution_count": 24,
   "id": "84b05fa3",
   "metadata": {},
   "outputs": [],
   "source": [
    "a = 45\n",
    "b = 90"
   ]
  },
  {
   "cell_type": "code",
   "execution_count": 25,
   "id": "0d163ef2",
   "metadata": {},
   "outputs": [
    {
     "data": {
      "text/plain": [
       "False"
      ]
     },
     "execution_count": 25,
     "metadata": {},
     "output_type": "execute_result"
    }
   ],
   "source": [
    "a>b"
   ]
  },
  {
   "cell_type": "code",
   "execution_count": null,
   "id": "8c4bee1c",
   "metadata": {},
   "outputs": [],
   "source": [
    ">,<,>=,<= !=, =="
   ]
  },
  {
   "cell_type": "code",
   "execution_count": null,
   "id": "0f31a33c",
   "metadata": {},
   "outputs": [],
   "source": []
  },
  {
   "cell_type": "code",
   "execution_count": null,
   "id": "a37ff04b",
   "metadata": {},
   "outputs": [],
   "source": []
  },
  {
   "cell_type": "code",
   "execution_count": null,
   "id": "90efb71f",
   "metadata": {},
   "outputs": [],
   "source": [
    "= vs =="
   ]
  },
  {
   "cell_type": "code",
   "execution_count": 26,
   "id": "e87b397e",
   "metadata": {},
   "outputs": [],
   "source": [
    "a = 500"
   ]
  },
  {
   "cell_type": "code",
   "execution_count": 29,
   "id": "d0fbd55f",
   "metadata": {},
   "outputs": [],
   "source": [
    "b = 500"
   ]
  },
  {
   "cell_type": "code",
   "execution_count": 30,
   "id": "c16470a1",
   "metadata": {},
   "outputs": [
    {
     "data": {
      "text/plain": [
       "True"
      ]
     },
     "execution_count": 30,
     "metadata": {},
     "output_type": "execute_result"
    }
   ],
   "source": [
    "a==b"
   ]
  },
  {
   "cell_type": "code",
   "execution_count": 31,
   "id": "c51c6a16",
   "metadata": {},
   "outputs": [],
   "source": [
    "a = 45"
   ]
  },
  {
   "cell_type": "code",
   "execution_count": 32,
   "id": "f33fa84d",
   "metadata": {},
   "outputs": [],
   "source": [
    "b = 90"
   ]
  },
  {
   "cell_type": "code",
   "execution_count": 33,
   "id": "2ffaf2b0",
   "metadata": {},
   "outputs": [],
   "source": [
    "a=b"
   ]
  },
  {
   "cell_type": "code",
   "execution_count": 34,
   "id": "ffda868e",
   "metadata": {},
   "outputs": [
    {
     "data": {
      "text/plain": [
       "90"
      ]
     },
     "execution_count": 34,
     "metadata": {},
     "output_type": "execute_result"
    }
   ],
   "source": [
    "a"
   ]
  },
  {
   "cell_type": "code",
   "execution_count": 35,
   "id": "b3d4c3bd",
   "metadata": {},
   "outputs": [
    {
     "data": {
      "text/plain": [
       "90"
      ]
     },
     "execution_count": 35,
     "metadata": {},
     "output_type": "execute_result"
    }
   ],
   "source": [
    "b"
   ]
  },
  {
   "cell_type": "code",
   "execution_count": 36,
   "id": "1177cbee",
   "metadata": {},
   "outputs": [
    {
     "data": {
      "text/plain": [
       "False"
      ]
     },
     "execution_count": 36,
     "metadata": {},
     "output_type": "execute_result"
    }
   ],
   "source": [
    "a!=b"
   ]
  },
  {
   "cell_type": "code",
   "execution_count": 37,
   "id": "e3f16b26",
   "metadata": {},
   "outputs": [],
   "source": [
    "a = 900"
   ]
  },
  {
   "cell_type": "code",
   "execution_count": 38,
   "id": "0a0aa637",
   "metadata": {},
   "outputs": [],
   "source": [
    "b = 700"
   ]
  },
  {
   "cell_type": "code",
   "execution_count": 39,
   "id": "f5b9966e",
   "metadata": {},
   "outputs": [
    {
     "data": {
      "text/plain": [
       "True"
      ]
     },
     "execution_count": 39,
     "metadata": {},
     "output_type": "execute_result"
    }
   ],
   "source": [
    "a!=b"
   ]
  },
  {
   "cell_type": "code",
   "execution_count": 40,
   "id": "542f5dc6",
   "metadata": {},
   "outputs": [],
   "source": [
    "a = 50"
   ]
  },
  {
   "cell_type": "code",
   "execution_count": 41,
   "id": "8ff073b1",
   "metadata": {},
   "outputs": [],
   "source": [
    "i = 10"
   ]
  },
  {
   "cell_type": "code",
   "execution_count": null,
   "id": "b067fa9a",
   "metadata": {},
   "outputs": [],
   "source": [
    "i= i+1 # i+=1"
   ]
  },
  {
   "cell_type": "code",
   "execution_count": 46,
   "id": "5b55d230",
   "metadata": {},
   "outputs": [],
   "source": [
    "i+=1"
   ]
  },
  {
   "cell_type": "code",
   "execution_count": 47,
   "id": "2d5b4c65",
   "metadata": {},
   "outputs": [
    {
     "data": {
      "text/plain": [
       "13"
      ]
     },
     "execution_count": 47,
     "metadata": {},
     "output_type": "execute_result"
    }
   ],
   "source": [
    "i"
   ]
  },
  {
   "cell_type": "code",
   "execution_count": 48,
   "id": "990b25f7",
   "metadata": {},
   "outputs": [
    {
     "data": {
      "text/plain": [
       "13"
      ]
     },
     "execution_count": 48,
     "metadata": {},
     "output_type": "execute_result"
    }
   ],
   "source": [
    "i"
   ]
  },
  {
   "cell_type": "code",
   "execution_count": 53,
   "id": "107735cd",
   "metadata": {},
   "outputs": [],
   "source": [
    "i-=1"
   ]
  },
  {
   "cell_type": "code",
   "execution_count": 54,
   "id": "c690f17f",
   "metadata": {},
   "outputs": [
    {
     "data": {
      "text/plain": [
       "10"
      ]
     },
     "execution_count": 54,
     "metadata": {},
     "output_type": "execute_result"
    }
   ],
   "source": [
    "i"
   ]
  },
  {
   "cell_type": "code",
   "execution_count": 55,
   "id": "77e661d9",
   "metadata": {},
   "outputs": [
    {
     "data": {
      "text/plain": [
       "10"
      ]
     },
     "execution_count": 55,
     "metadata": {},
     "output_type": "execute_result"
    }
   ],
   "source": [
    "i"
   ]
  },
  {
   "cell_type": "code",
   "execution_count": 66,
   "id": "fe7f8b36",
   "metadata": {},
   "outputs": [],
   "source": [
    "i*=5"
   ]
  },
  {
   "cell_type": "code",
   "execution_count": 67,
   "id": "e45607ae",
   "metadata": {},
   "outputs": [
    {
     "data": {
      "text/plain": [
       "156250"
      ]
     },
     "execution_count": 67,
     "metadata": {},
     "output_type": "execute_result"
    }
   ],
   "source": [
    "i"
   ]
  },
  {
   "cell_type": "code",
   "execution_count": 80,
   "id": "95bcf53f",
   "metadata": {},
   "outputs": [],
   "source": [
    "i/=5"
   ]
  },
  {
   "cell_type": "code",
   "execution_count": 81,
   "id": "8937fdd3",
   "metadata": {},
   "outputs": [
    {
     "data": {
      "text/plain": [
       "2.0"
      ]
     },
     "execution_count": 81,
     "metadata": {},
     "output_type": "execute_result"
    }
   ],
   "source": [
    "i"
   ]
  },
  {
   "cell_type": "code",
   "execution_count": null,
   "id": "c4c1508c",
   "metadata": {},
   "outputs": [],
   "source": [
    "Logical Operator\n",
    "and \n",
    "or \n",
    "not"
   ]
  },
  {
   "cell_type": "code",
   "execution_count": 82,
   "id": "5886caf9",
   "metadata": {},
   "outputs": [],
   "source": [
    "product_id = '101'"
   ]
  },
  {
   "cell_type": "code",
   "execution_count": 83,
   "id": "433eac3a",
   "metadata": {},
   "outputs": [],
   "source": [
    "email  = 'abc@gmail.com'"
   ]
  },
  {
   "cell_type": "code",
   "execution_count": 84,
   "id": "ed45d7f1",
   "metadata": {},
   "outputs": [],
   "source": [
    "a = 45"
   ]
  },
  {
   "cell_type": "code",
   "execution_count": 85,
   "id": "df8f3ad8",
   "metadata": {},
   "outputs": [],
   "source": [
    "b = 90"
   ]
  },
  {
   "cell_type": "code",
   "execution_count": 87,
   "id": "168232b0",
   "metadata": {},
   "outputs": [
    {
     "data": {
      "text/plain": [
       "True"
      ]
     },
     "execution_count": 87,
     "metadata": {},
     "output_type": "execute_result"
    }
   ],
   "source": [
    "a<b and email.endswith('gmail.com') and product_id.isnumeric()"
   ]
  },
  {
   "cell_type": "code",
   "execution_count": 89,
   "id": "3ef53cea",
   "metadata": {},
   "outputs": [
    {
     "data": {
      "text/plain": [
       "False"
      ]
     },
     "execution_count": 89,
     "metadata": {},
     "output_type": "execute_result"
    }
   ],
   "source": [
    "True and True and True and True and False"
   ]
  },
  {
   "cell_type": "code",
   "execution_count": 90,
   "id": "d1a1f63a",
   "metadata": {},
   "outputs": [
    {
     "data": {
      "text/plain": [
       "True"
      ]
     },
     "execution_count": 90,
     "metadata": {},
     "output_type": "execute_result"
    }
   ],
   "source": [
    "a>b or email.endswith('.com')"
   ]
  },
  {
   "cell_type": "code",
   "execution_count": null,
   "id": "0232eac2",
   "metadata": {},
   "outputs": [],
   "source": [
    "True --> False\n",
    "\n",
    "False --> True"
   ]
  },
  {
   "cell_type": "code",
   "execution_count": null,
   "id": "461428f1",
   "metadata": {},
   "outputs": [],
   "source": []
  },
  {
   "cell_type": "code",
   "execution_count": 91,
   "id": "513e5819",
   "metadata": {},
   "outputs": [
    {
     "data": {
      "text/plain": [
       "False"
      ]
     },
     "execution_count": 91,
     "metadata": {},
     "output_type": "execute_result"
    }
   ],
   "source": [
    "not True"
   ]
  },
  {
   "cell_type": "code",
   "execution_count": 93,
   "id": "a4d591e5",
   "metadata": {},
   "outputs": [
    {
     "data": {
      "text/plain": [
       "True"
      ]
     },
     "execution_count": 93,
     "metadata": {},
     "output_type": "execute_result"
    }
   ],
   "source": [
    "not a>b"
   ]
  },
  {
   "cell_type": "code",
   "execution_count": null,
   "id": "14f21184",
   "metadata": {},
   "outputs": [],
   "source": []
  }
 ],
 "metadata": {
  "kernelspec": {
   "display_name": "Python 3 (ipykernel)",
   "language": "python",
   "name": "python3"
  },
  "language_info": {
   "codemirror_mode": {
    "name": "ipython",
    "version": 3
   },
   "file_extension": ".py",
   "mimetype": "text/x-python",
   "name": "python",
   "nbconvert_exporter": "python",
   "pygments_lexer": "ipython3",
   "version": "3.9.12"
  }
 },
 "nbformat": 4,
 "nbformat_minor": 5
}
